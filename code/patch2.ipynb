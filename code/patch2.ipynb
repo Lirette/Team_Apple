{
  "nbformat": 4,
  "nbformat_minor": 0,
  "metadata": {
    "colab": {
      "name": "patch2.ipynb",
      "provenance": [],
      "collapsed_sections": []
    },
    "kernelspec": {
      "name": "python3",
      "display_name": "Python 3"
    },
    "language_info": {
      "name": "python"
    }
  },
  "cells": [
    {
      "cell_type": "markdown",
      "metadata": {
        "id": "QScwR_sTi7xG"
      },
      "source": [
        "[![Open In Colab](https://colab.research.google.com/assets/colab-badge.svg)](https://colab.research.google.com/drive/1mUDx4uFpbS6jrD7lN-P7F7saefP_QJ31?usp=sharing)\n"
      ]
    },
    {
      "cell_type": "code",
      "metadata": {
        "id": "NMDP-YEodfnr",
        "colab": {
          "base_uri": "https://localhost:8080/"
        },
        "outputId": "6eadb308-68f3-42c1-f2ad-9a4136d95b90"
      },
      "source": [
        "# Import required packages\n",
        "!python -m spacy download fr_core_news_sm\n",
        "#import fr_core_news_sm\n",
        "import spacy\n",
        "from spacy import displacy\n",
        "from sklearn.feature_extraction.text import CountVectorizer, TfidfVectorizer\n",
        "import pandas as pd\n",
        "import matplotlib.pyplot as plt\n",
        "import seaborn as sns\n",
        " "
      ],
      "execution_count": 1,
      "outputs": [
        {
          "output_type": "stream",
          "name": "stdout",
          "text": [
            "Collecting fr_core_news_sm==2.2.5\n",
            "  Downloading https://github.com/explosion/spacy-models/releases/download/fr_core_news_sm-2.2.5/fr_core_news_sm-2.2.5.tar.gz (14.7 MB)\n",
            "\u001b[K     |████████████████████████████████| 14.7 MB 5.1 MB/s \n",
            "\u001b[?25hRequirement already satisfied: spacy>=2.2.2 in /usr/local/lib/python3.7/dist-packages (from fr_core_news_sm==2.2.5) (2.2.4)\n",
            "Requirement already satisfied: setuptools in /usr/local/lib/python3.7/dist-packages (from spacy>=2.2.2->fr_core_news_sm==2.2.5) (57.4.0)\n",
            "Requirement already satisfied: plac<1.2.0,>=0.9.6 in /usr/local/lib/python3.7/dist-packages (from spacy>=2.2.2->fr_core_news_sm==2.2.5) (1.1.3)\n",
            "Requirement already satisfied: tqdm<5.0.0,>=4.38.0 in /usr/local/lib/python3.7/dist-packages (from spacy>=2.2.2->fr_core_news_sm==2.2.5) (4.62.3)\n",
            "Requirement already satisfied: blis<0.5.0,>=0.4.0 in /usr/local/lib/python3.7/dist-packages (from spacy>=2.2.2->fr_core_news_sm==2.2.5) (0.4.1)\n",
            "Requirement already satisfied: cymem<2.1.0,>=2.0.2 in /usr/local/lib/python3.7/dist-packages (from spacy>=2.2.2->fr_core_news_sm==2.2.5) (2.0.6)\n",
            "Requirement already satisfied: catalogue<1.1.0,>=0.0.7 in /usr/local/lib/python3.7/dist-packages (from spacy>=2.2.2->fr_core_news_sm==2.2.5) (1.0.0)\n",
            "Requirement already satisfied: requests<3.0.0,>=2.13.0 in /usr/local/lib/python3.7/dist-packages (from spacy>=2.2.2->fr_core_news_sm==2.2.5) (2.23.0)\n",
            "Requirement already satisfied: preshed<3.1.0,>=3.0.2 in /usr/local/lib/python3.7/dist-packages (from spacy>=2.2.2->fr_core_news_sm==2.2.5) (3.0.6)\n",
            "Requirement already satisfied: thinc==7.4.0 in /usr/local/lib/python3.7/dist-packages (from spacy>=2.2.2->fr_core_news_sm==2.2.5) (7.4.0)\n",
            "Requirement already satisfied: wasabi<1.1.0,>=0.4.0 in /usr/local/lib/python3.7/dist-packages (from spacy>=2.2.2->fr_core_news_sm==2.2.5) (0.8.2)\n",
            "Requirement already satisfied: srsly<1.1.0,>=1.0.2 in /usr/local/lib/python3.7/dist-packages (from spacy>=2.2.2->fr_core_news_sm==2.2.5) (1.0.5)\n",
            "Requirement already satisfied: numpy>=1.15.0 in /usr/local/lib/python3.7/dist-packages (from spacy>=2.2.2->fr_core_news_sm==2.2.5) (1.19.5)\n",
            "Requirement already satisfied: murmurhash<1.1.0,>=0.28.0 in /usr/local/lib/python3.7/dist-packages (from spacy>=2.2.2->fr_core_news_sm==2.2.5) (1.0.6)\n",
            "Requirement already satisfied: importlib-metadata>=0.20 in /usr/local/lib/python3.7/dist-packages (from catalogue<1.1.0,>=0.0.7->spacy>=2.2.2->fr_core_news_sm==2.2.5) (4.8.2)\n",
            "Requirement already satisfied: zipp>=0.5 in /usr/local/lib/python3.7/dist-packages (from importlib-metadata>=0.20->catalogue<1.1.0,>=0.0.7->spacy>=2.2.2->fr_core_news_sm==2.2.5) (3.6.0)\n",
            "Requirement already satisfied: typing-extensions>=3.6.4 in /usr/local/lib/python3.7/dist-packages (from importlib-metadata>=0.20->catalogue<1.1.0,>=0.0.7->spacy>=2.2.2->fr_core_news_sm==2.2.5) (3.10.0.2)\n",
            "Requirement already satisfied: chardet<4,>=3.0.2 in /usr/local/lib/python3.7/dist-packages (from requests<3.0.0,>=2.13.0->spacy>=2.2.2->fr_core_news_sm==2.2.5) (3.0.4)\n",
            "Requirement already satisfied: urllib3!=1.25.0,!=1.25.1,<1.26,>=1.21.1 in /usr/local/lib/python3.7/dist-packages (from requests<3.0.0,>=2.13.0->spacy>=2.2.2->fr_core_news_sm==2.2.5) (1.24.3)\n",
            "Requirement already satisfied: certifi>=2017.4.17 in /usr/local/lib/python3.7/dist-packages (from requests<3.0.0,>=2.13.0->spacy>=2.2.2->fr_core_news_sm==2.2.5) (2021.10.8)\n",
            "Requirement already satisfied: idna<3,>=2.5 in /usr/local/lib/python3.7/dist-packages (from requests<3.0.0,>=2.13.0->spacy>=2.2.2->fr_core_news_sm==2.2.5) (2.10)\n",
            "Building wheels for collected packages: fr-core-news-sm\n",
            "  Building wheel for fr-core-news-sm (setup.py) ... \u001b[?25l\u001b[?25hdone\n",
            "  Created wheel for fr-core-news-sm: filename=fr_core_news_sm-2.2.5-py3-none-any.whl size=14727026 sha256=8b14c02e394033fb4b200259c9c242eabed1f7ec274cde85ba2e34a61b86e342\n",
            "  Stored in directory: /tmp/pip-ephem-wheel-cache-r9oboz18/wheels/c9/a6/ea/0778337c34660027ee67ef3a91fb9d3600b76777a912ea1c24\n",
            "Successfully built fr-core-news-sm\n",
            "Installing collected packages: fr-core-news-sm\n",
            "Successfully installed fr-core-news-sm-2.2.5\n",
            "\u001b[38;5;2m✔ Download and installation successful\u001b[0m\n",
            "You can now load the model via spacy.load('fr_core_news_sm')\n"
          ]
        }
      ]
    },
    {
      "cell_type": "code",
      "metadata": {
        "id": "d5YYODCIdjJs"
      },
      "source": [
        "# Import additional packages\n",
        "from sklearn.base import TransformerMixin\n",
        "from sklearn.pipeline import Pipeline\n",
        "import string\n",
        "from spacy.lang.en.stop_words import STOP_WORDS\n",
        "from spacy.lang.en import English\n",
        "\n",
        "from spacy.lang.fr.stop_words import STOP_WORDS\n",
        "from spacy.lang.fr.examples import sentences \n",
        "from spacy.lang.fr import French\n",
        "from sklearn.model_selection import train_test_split\n",
        "from sklearn.linear_model import LogisticRegression\n",
        "from sklearn.preprocessing import MinMaxScaler\n",
        "from sklearn.metrics import confusion_matrix, accuracy_score, precision_score, recall_score, f1_score"
      ],
      "execution_count": 57,
      "outputs": []
    },
    {
      "cell_type": "code",
      "metadata": {
        "colab": {
          "base_uri": "https://localhost:8080/",
          "height": 238
        },
        "id": "uAQg9ugrdrS6",
        "outputId": "af382945-0f76-4821-bb6e-674bfd23c1c8"
      },
      "source": [
        "path = \"https://raw.githubusercontent.com/Lirette2/DMML2021_Apple/main/data/training_data.csv\"\n",
        "df = pd.read_csv(path, index_col=0)\n",
        "df.head()\n"
      ],
      "execution_count": 8,
      "outputs": [
        {
          "output_type": "execute_result",
          "data": {
            "text/html": [
              "<div>\n",
              "<style scoped>\n",
              "    .dataframe tbody tr th:only-of-type {\n",
              "        vertical-align: middle;\n",
              "    }\n",
              "\n",
              "    .dataframe tbody tr th {\n",
              "        vertical-align: top;\n",
              "    }\n",
              "\n",
              "    .dataframe thead th {\n",
              "        text-align: right;\n",
              "    }\n",
              "</style>\n",
              "<table border=\"1\" class=\"dataframe\">\n",
              "  <thead>\n",
              "    <tr style=\"text-align: right;\">\n",
              "      <th></th>\n",
              "      <th>sentence</th>\n",
              "      <th>difficulty</th>\n",
              "    </tr>\n",
              "    <tr>\n",
              "      <th>id</th>\n",
              "      <th></th>\n",
              "      <th></th>\n",
              "    </tr>\n",
              "  </thead>\n",
              "  <tbody>\n",
              "    <tr>\n",
              "      <th>0</th>\n",
              "      <td>Les coûts kilométriques réels peuvent diverger...</td>\n",
              "      <td>C1</td>\n",
              "    </tr>\n",
              "    <tr>\n",
              "      <th>1</th>\n",
              "      <td>Le bleu, c'est ma couleur préférée mais je n'a...</td>\n",
              "      <td>A1</td>\n",
              "    </tr>\n",
              "    <tr>\n",
              "      <th>2</th>\n",
              "      <td>Le test de niveau en français est sur le site ...</td>\n",
              "      <td>A1</td>\n",
              "    </tr>\n",
              "    <tr>\n",
              "      <th>3</th>\n",
              "      <td>Est-ce que ton mari est aussi de Boston?</td>\n",
              "      <td>A1</td>\n",
              "    </tr>\n",
              "    <tr>\n",
              "      <th>4</th>\n",
              "      <td>Dans les écoles de commerce, dans les couloirs...</td>\n",
              "      <td>B1</td>\n",
              "    </tr>\n",
              "  </tbody>\n",
              "</table>\n",
              "</div>"
            ],
            "text/plain": [
              "                                             sentence difficulty\n",
              "id                                                              \n",
              "0   Les coûts kilométriques réels peuvent diverger...         C1\n",
              "1   Le bleu, c'est ma couleur préférée mais je n'a...         A1\n",
              "2   Le test de niveau en français est sur le site ...         A1\n",
              "3            Est-ce que ton mari est aussi de Boston?         A1\n",
              "4   Dans les écoles de commerce, dans les couloirs...         B1"
            ]
          },
          "metadata": {},
          "execution_count": 8
        }
      ]
    },
    {
      "cell_type": "code",
      "metadata": {
        "colab": {
          "base_uri": "https://localhost:8080/"
        },
        "id": "rvPY_lQydtnp",
        "outputId": "7697daa3-580c-419f-ad95-084cc62db212"
      },
      "source": [
        "df.info()\n"
      ],
      "execution_count": 9,
      "outputs": [
        {
          "output_type": "stream",
          "name": "stdout",
          "text": [
            "<class 'pandas.core.frame.DataFrame'>\n",
            "Int64Index: 4800 entries, 0 to 4799\n",
            "Data columns (total 2 columns):\n",
            " #   Column      Non-Null Count  Dtype \n",
            "---  ------      --------------  ----- \n",
            " 0   sentence    4800 non-null   object\n",
            " 1   difficulty  4800 non-null   object\n",
            "dtypes: object(2)\n",
            "memory usage: 112.5+ KB\n"
          ]
        }
      ]
    },
    {
      "cell_type": "code",
      "metadata": {
        "colab": {
          "base_uri": "https://localhost:8080/"
        },
        "id": "BouzxX3ndvik",
        "outputId": "ad761c82-f4c9-452b-dad7-9e44bf512a22"
      },
      "source": [
        "# Base rate: the data-set is a bit balanced!\n",
        "df.difficulty.value_counts()\n"
      ],
      "execution_count": 4,
      "outputs": [
        {
          "output_type": "execute_result",
          "data": {
            "text/plain": [
              "A1    813\n",
              "C2    807\n",
              "C1    798\n",
              "A2    795\n",
              "B1    795\n",
              "B2    792\n",
              "Name: difficulty, dtype: int64"
            ]
          },
          "metadata": {},
          "execution_count": 4
        }
      ]
    },
    {
      "cell_type": "code",
      "metadata": {
        "colab": {
          "base_uri": "https://localhost:8080/",
          "height": 279
        },
        "id": "OxATHOC2dxPh",
        "outputId": "7369386d-e0d8-45b6-b355-9ffd7bc12d40"
      },
      "source": [
        "difficulty_count = df.groupby(\"difficulty\").count()\n",
        "plt.bar(difficulty_count.index.values, difficulty_count[\"sentence\"])\n",
        "plt.xlabel(\"Difficulty\")\n",
        "plt.ylabel(\"Number of Sentences\")\n",
        "plt.show()"
      ],
      "execution_count": 10,
      "outputs": [
        {
          "output_type": "display_data",
          "data": {
            "image/png": "[encoded data removed]",
            "text/plain": [
              "<Figure size 432x288 with 1 Axes>"
            ]
          },
          "metadata": {
            "needs_background": "light"
          }
        }
      ]
    },
    {
      "cell_type": "code",
      "metadata": {
        "colab": {
          "base_uri": "https://localhost:8080/"
        },
        "id": "TWAbLqJpfA0F",
        "outputId": "8ce3ff2f-9239-494e-af85-cdee29222a74"
      },
      "source": [
        "round(df.difficulty.value_counts().max()/ len(df), 4)\n"
      ],
      "execution_count": 6,
      "outputs": [
        {
          "output_type": "execute_result",
          "data": {
            "text/plain": [
              "0.1694"
            ]
          },
          "metadata": {},
          "execution_count": 6
        }
      ]
    },
    {
      "cell_type": "markdown",
      "metadata": {
        "id": "daGEGXdFfESw"
      },
      "source": [
        "### tokening the date with spaCy\n"
      ]
    },
    {
      "cell_type": "code",
      "metadata": {
        "colab": {
          "base_uri": "https://localhost:8080/",
          "height": 36
        },
        "id": "cLA0BmpVfJEI",
        "outputId": "60e68a8a-cd6b-41a7-a96b-21df637a463c"
      },
      "source": [
        "# Create a list of punctuation marks\n",
        "punctuations = string.punctuation\n",
        "punctuations"
      ],
      "execution_count": 11,
      "outputs": [
        {
          "output_type": "execute_result",
          "data": {
            "application/vnd.google.colaboratory.intrinsic+json": {
              "type": "string"
            },
            "text/plain": [
              "'!\"#$%&\\'()*+,-./:;<=>?@[\\\\]^_`{|}~'"
            ]
          },
          "metadata": {},
          "execution_count": 11
        }
      ]
    },
    {
      "cell_type": "code",
      "metadata": {
        "colab": {
          "base_uri": "https://localhost:8080/"
        },
        "id": "HQBHplsRfLXk",
        "outputId": "95207e35-cc92-4c61-8093-255f0eac8b77"
      },
      "source": [
        "# Create a list of stopwords\n",
        "#stop_words = spacy.lang.en.stop_words.STOP_WORDS\n",
        "stop_words = spacy.lang.fr.stop_words.STOP_WORDS\n",
        "\n",
        "list(stop_words)[:10]"
      ],
      "execution_count": 12,
      "outputs": [
        {
          "output_type": "execute_result",
          "data": {
            "text/plain": [
              "[\"t'\",\n",
              " 'nôtres',\n",
              " 'té',\n",
              " 'hum',\n",
              " 'pendant',\n",
              " 'vous-mêmes',\n",
              " 'tiennes',\n",
              " 'vive',\n",
              " 'mes',\n",
              " 'directe']"
            ]
          },
          "metadata": {},
          "execution_count": 12
        }
      ]
    },
    {
      "cell_type": "code",
      "metadata": {
        "id": "TC6QJzQffNkL"
      },
      "source": [
        "# Load French language model\n",
        "import fr_core_news_sm\n",
        "#sp = spacy.load('en_core_web_sm')\n",
        "sp = fr_core_news_sm.load()\n",
        "\n",
        "# Create tokenizer function\n",
        "def spacy_tokenizer(sentence):\n",
        "    # Create token object, which is used to create documents with linguistic annotations.\n",
        "    mytokens = sp(sentence)\n",
        "\n",
        "    # Lemmatize each token and convert each token into lowercase\n",
        "    mytokens = [ word.lemma_.lower().strip() for word in mytokens ]\n",
        "    ## alternative way\n",
        "    # mytokens = [ word.lemma_.lower().strip() if word.lemma_ != \"-PRON-\" else word.lower_ for word in mytokens ]\n",
        "\n",
        "    # Remove stop words and punctuation\n",
        "    mytokens = [ word for word in mytokens if word not in stop_words and word not in punctuations ]\n",
        "\n",
        "    # Return preprocessed list of tokens\n",
        "    return mytokens\n",
        "\n"
      ],
      "execution_count": 160,
      "outputs": []
    },
    {
      "cell_type": "code",
      "metadata": {
        "colab": {
          "base_uri": "https://localhost:8080/"
        },
        "id": "jAbdvIavfP5G",
        "outputId": "a464d648-a1cd-45e9-dc77-946e54419000"
      },
      "source": [
        "# Example\n",
        "#New_sentence = df[\"sentence\"].sample()\n",
        "New_sentence = df[\"sentence\"].head()\n",
        "New_sentence.values[0]\n",
        "spacy_tokenizer(New_sentence.values[0])\n"
      ],
      "execution_count": 161,
      "outputs": [
        {
          "output_type": "execute_result",
          "data": {
            "text/plain": [
              "['coût',\n",
              " 'kilométrique',\n",
              " 'réel',\n",
              " 'pouvoir',\n",
              " 'diverger',\n",
              " 'sensiblemer',\n",
              " 'valeur',\n",
              " 'moyenner',\n",
              " 'fonction',\n",
              " 'moyen',\n",
              " 'transport',\n",
              " 'utiliser',\n",
              " 'taux',\n",
              " 'occupation',\n",
              " 'taux',\n",
              " 'remplissage',\n",
              " 'infrastructure',\n",
              " 'utiliser',\n",
              " 'topographie',\n",
              " 'ligne',\n",
              " 'flux',\n",
              " 'trafic',\n",
              " 'etc.']"
            ]
          },
          "metadata": {},
          "execution_count": 161
        }
      ]
    },
    {
      "cell_type": "code",
      "metadata": {
        "id": "JB7SbUOafRXZ"
      },
      "source": [
        "#### **** ***************** **** ####\n",
        "#### **** RAW TEXT FEATURES **** ####\n",
        "#### **** ***************** **** ####\n",
        "\n",
        "# Count tokens per sentence\n",
        "def count_token(sent):\n",
        "  return(len(spacy_tokenizer(sent))) #spacy_tokenizer() to get tokens, len() to count them\n",
        "\n",
        "# Count raw words per sentence\n",
        "def count_words(sent):\n",
        "  return(len(sent.split())) #split() gives us individual words, len() counts them\n",
        "\n",
        "#Get average character length of word\n",
        "def count_avg_word_character(sent):\n",
        "  words = sent.split()\n",
        "  return(sum(len(word) for word in words) / len(words))\n",
        "\n",
        "def count_avg_token_character(sent):\n",
        "  words = spacy_tokenizer(sent)\n",
        "  if len(words) == 0:\n",
        "    return(0)\n",
        "  else:\n",
        "    return(sum(len(word) for word in words) / len(words))"
      ],
      "execution_count": 302,
      "outputs": []
    },
    {
      "cell_type": "code",
      "metadata": {
        "id": "Czbuy7JkXJnB"
      },
      "source": [
        "#### **** **************** **** ####\n",
        "#### **** LEXICAL FEATURES **** ####\n",
        "#### **** **************** **** ####\n",
        "\n",
        "# Lexical Diversity\n",
        "def lex_div_word(sent):\n",
        "  total_number_word = len(sent.split())\n",
        "  unique = set(sent.split())\n",
        "  return(len(unique)/total_number_word)\n",
        "#We don't apply for token, as the goal of the tokenzization is to be left with \n",
        "#unique tokens\n",
        "#For tokens, we should apply to the whole text as done by tfidf_vector\n",
        "\n",
        "# Lexical Density\n",
        "def lex_den_tokens(sent):\n",
        "  st = spacy_tokenizer(sent)\n",
        "  string = \" \".join([str(item) for item in st])\n",
        "  x = sp(string)\n",
        "  counter = 0 \n",
        "  for token in x:\n",
        "    if token.pos_ == \"NOUN\" or token.pos_ == \"ADJ\" or token.pos_ == \"VERB\" or token.pos_ == \"ADV\":\n",
        "      counter = counter + 1\n",
        "  if len(st) == 0:\n",
        "    return(0)\n",
        "  else:\n",
        "    return(counter/len(st))\n",
        "\n",
        "def lex_den_words(sent):\n",
        "  x = sp(sent)\n",
        "  counter = 0 \n",
        "  for token in x:\n",
        "    if token.pos_ == \"NOUN\" or token.pos_ == \"ADJ\" or token.pos_ == \"VERB\" or token.pos_ == \"ADV\":\n",
        "      counter = counter + 1\n",
        "  return(counter/len(x))\n",
        "\n",
        "# Words NOT in frequent list\n",
        "path = \"https://raw.githubusercontent.com/Lirette2/DMML2021_Apple/main/data/list_words.csv\"\n",
        "words = pd.read_csv(path, index_col=0)\n",
        "\n",
        "\n",
        "def words_list(sent):\n",
        "  unique = set(sent.split())\n",
        "  counter = 0\n",
        "  for word_in_sentence in unique:\n",
        "    for word_in_list in words.Mots:\n",
        "      if word_in_sentence == word_in_list:\n",
        "        counter = counter + 1\n",
        "        break#we stop comparing once the word in found, to make it faster\n",
        "  return(counter/len(unique))\n",
        "\n",
        "\n",
        "def token_list(sent):\n",
        "  unique = spacy_tokenizer(sent)\n",
        "  counter = 0\n",
        "  for word_in_sentence in unique:\n",
        "    for word_in_list in words.Mots:\n",
        "      if word_in_sentence == word_in_list:\n",
        "        counter = counter + 1\n",
        "        break#we stop comparing once the word in found, to make it faster\n",
        "  return(counter/len(unique))\n"
      ],
      "execution_count": 307,
      "outputs": []
    },
    {
      "cell_type": "code",
      "metadata": {
        "colab": {
          "base_uri": "https://localhost:8080/",
          "height": 1000
        },
        "id": "qJEbTBFhM3J7",
        "outputId": "f25f66f8-824c-480d-8c8a-e83cc4273922"
      },
      "source": [
        "raw_word_count = pd.Series(df.sentence.apply(count_words),name=\"raw_word_count\")\n",
        "token_count = pd.Series(df.sentence.apply(count_token),name=\"token_count\")\n",
        "avg_chr_word = pd.Series(df.sentence.apply(count_avg_word_character),name=\"avg_chr_word\")\n",
        "avg_chr_token = pd.Series(df.sentence.apply(count_avg_token_character),name=\"avg_chr_token\")\n",
        "diversity_word = pd.Series(df.sentence.apply(lex_div_word),name=\"diversity_word\")\n",
        "density_word = pd.Series(df.sentence.apply(lex_den_words),name=\"density_word\")\n",
        "density_token = pd.Series(df.sentence.apply(lex_den_tokens),name=\"density_token\")\n",
        "freq_word_list = pd.Series(df.sentence.apply(words_not_list),name=\"freq_word_list\")\n",
        "freq_token_list = pd.Series(df.sentence.apply(words_list),name=\"freq_token_list\")\n",
        "\n",
        "new_df = pd.concat([df,raw_word_count,token_count,avg_chr_word,avg_chr_token,\n",
        "                    diversity_word,density_word,density_token,freq_word_list,freq_token_list],axis=1)\n",
        "new_df"
      ],
      "execution_count": 308,
      "outputs": [
        {
          "output_type": "execute_result",
          "data": {
            "text/html": [
              "<div>\n",
              "<style scoped>\n",
              "    .dataframe tbody tr th:only-of-type {\n",
              "        vertical-align: middle;\n",
              "    }\n",
              "\n",
              "    .dataframe tbody tr th {\n",
              "        vertical-align: top;\n",
              "    }\n",
              "\n",
              "    .dataframe thead th {\n",
              "        text-align: right;\n",
              "    }\n",
              "</style>\n",
              "<table border=\"1\" class=\"dataframe\">\n",
              "  <thead>\n",
              "    <tr style=\"text-align: right;\">\n",
              "      <th></th>\n",
              "      <th>sentence</th>\n",
              "      <th>difficulty</th>\n",
              "      <th>raw_word_count</th>\n",
              "      <th>token_count</th>\n",
              "      <th>avg_chr_word</th>\n",
              "      <th>avg_chr_token</th>\n",
              "      <th>diversity_word</th>\n",
              "      <th>density_word</th>\n",
              "      <th>density_token</th>\n",
              "      <th>freq_word_list</th>\n",
              "      <th>freq_token_list</th>\n",
              "    </tr>\n",
              "    <tr>\n",
              "      <th>id</th>\n",
              "      <th></th>\n",
              "      <th></th>\n",
              "      <th></th>\n",
              "      <th></th>\n",
              "      <th></th>\n",
              "      <th></th>\n",
              "      <th></th>\n",
              "      <th></th>\n",
              "      <th></th>\n",
              "      <th></th>\n",
              "      <th></th>\n",
              "    </tr>\n",
              "  </thead>\n",
              "  <tbody>\n",
              "    <tr>\n",
              "      <th>0</th>\n",
              "      <td>Les coûts kilométriques réels peuvent diverger...</td>\n",
              "      <td>C1</td>\n",
              "      <td>38</td>\n",
              "      <td>23</td>\n",
              "      <td>5.736842</td>\n",
              "      <td>7.434783</td>\n",
              "      <td>0.763158</td>\n",
              "      <td>0.488889</td>\n",
              "      <td>0.956522</td>\n",
              "      <td>0.793103</td>\n",
              "      <td>0.206897</td>\n",
              "    </tr>\n",
              "    <tr>\n",
              "      <th>1</th>\n",
              "      <td>Le bleu, c'est ma couleur préférée mais je n'a...</td>\n",
              "      <td>A1</td>\n",
              "      <td>12</td>\n",
              "      <td>5</td>\n",
              "      <td>4.250000</td>\n",
              "      <td>5.400000</td>\n",
              "      <td>1.000000</td>\n",
              "      <td>0.375000</td>\n",
              "      <td>0.400000</td>\n",
              "      <td>0.583333</td>\n",
              "      <td>0.416667</td>\n",
              "    </tr>\n",
              "    <tr>\n",
              "      <th>2</th>\n",
              "      <td>Le test de niveau en français est sur le site ...</td>\n",
              "      <td>A1</td>\n",
              "      <td>13</td>\n",
              "      <td>6</td>\n",
              "      <td>4.153846</td>\n",
              "      <td>5.833333</td>\n",
              "      <td>0.923077</td>\n",
              "      <td>0.400000</td>\n",
              "      <td>1.000000</td>\n",
              "      <td>0.500000</td>\n",
              "      <td>0.500000</td>\n",
              "    </tr>\n",
              "    <tr>\n",
              "      <th>3</th>\n",
              "      <td>Est-ce que ton mari est aussi de Boston?</td>\n",
              "      <td>A1</td>\n",
              "      <td>8</td>\n",
              "      <td>2</td>\n",
              "      <td>4.125000</td>\n",
              "      <td>5.000000</td>\n",
              "      <td>1.000000</td>\n",
              "      <td>0.400000</td>\n",
              "      <td>0.500000</td>\n",
              "      <td>0.250000</td>\n",
              "      <td>0.750000</td>\n",
              "    </tr>\n",
              "    <tr>\n",
              "      <th>4</th>\n",
              "      <td>Dans les écoles de commerce, dans les couloirs...</td>\n",
              "      <td>B1</td>\n",
              "      <td>34</td>\n",
              "      <td>18</td>\n",
              "      <td>5.176471</td>\n",
              "      <td>5.611111</td>\n",
              "      <td>0.823529</td>\n",
              "      <td>0.380952</td>\n",
              "      <td>0.722222</td>\n",
              "      <td>0.714286</td>\n",
              "      <td>0.285714</td>\n",
              "    </tr>\n",
              "    <tr>\n",
              "      <th>...</th>\n",
              "      <td>...</td>\n",
              "      <td>...</td>\n",
              "      <td>...</td>\n",
              "      <td>...</td>\n",
              "      <td>...</td>\n",
              "      <td>...</td>\n",
              "      <td>...</td>\n",
              "      <td>...</td>\n",
              "      <td>...</td>\n",
              "      <td>...</td>\n",
              "      <td>...</td>\n",
              "    </tr>\n",
              "    <tr>\n",
              "      <th>4795</th>\n",
              "      <td>C'est pourquoi, il décida de remplacer les hab...</td>\n",
              "      <td>B2</td>\n",
              "      <td>26</td>\n",
              "      <td>12</td>\n",
              "      <td>5.384615</td>\n",
              "      <td>7.500000</td>\n",
              "      <td>1.000000</td>\n",
              "      <td>0.500000</td>\n",
              "      <td>0.833333</td>\n",
              "      <td>0.576923</td>\n",
              "      <td>0.423077</td>\n",
              "    </tr>\n",
              "    <tr>\n",
              "      <th>4796</th>\n",
              "      <td>Il avait une de ces pâleurs splendides qui don...</td>\n",
              "      <td>C1</td>\n",
              "      <td>21</td>\n",
              "      <td>10</td>\n",
              "      <td>4.666667</td>\n",
              "      <td>5.700000</td>\n",
              "      <td>0.952381</td>\n",
              "      <td>0.454545</td>\n",
              "      <td>1.000000</td>\n",
              "      <td>0.750000</td>\n",
              "      <td>0.250000</td>\n",
              "    </tr>\n",
              "    <tr>\n",
              "      <th>4797</th>\n",
              "      <td>Et le premier samedi de chaque mois, venez ren...</td>\n",
              "      <td>A2</td>\n",
              "      <td>14</td>\n",
              "      <td>6</td>\n",
              "      <td>4.785714</td>\n",
              "      <td>6.666667</td>\n",
              "      <td>0.928571</td>\n",
              "      <td>0.466667</td>\n",
              "      <td>1.000000</td>\n",
              "      <td>0.538462</td>\n",
              "      <td>0.461538</td>\n",
              "    </tr>\n",
              "    <tr>\n",
              "      <th>4798</th>\n",
              "      <td>Les coûts liés à la journalisation n'étant pas...</td>\n",
              "      <td>C2</td>\n",
              "      <td>32</td>\n",
              "      <td>16</td>\n",
              "      <td>6.093750</td>\n",
              "      <td>8.500000</td>\n",
              "      <td>0.875000</td>\n",
              "      <td>0.540541</td>\n",
              "      <td>0.937500</td>\n",
              "      <td>0.678571</td>\n",
              "      <td>0.321429</td>\n",
              "    </tr>\n",
              "    <tr>\n",
              "      <th>4799</th>\n",
              "      <td>Sur le sable, la mer haletait de toute la resp...</td>\n",
              "      <td>C2</td>\n",
              "      <td>17</td>\n",
              "      <td>8</td>\n",
              "      <td>4.647059</td>\n",
              "      <td>6.250000</td>\n",
              "      <td>0.882353</td>\n",
              "      <td>0.368421</td>\n",
              "      <td>0.875000</td>\n",
              "      <td>0.600000</td>\n",
              "      <td>0.400000</td>\n",
              "    </tr>\n",
              "  </tbody>\n",
              "</table>\n",
              "<p>4800 rows × 11 columns</p>\n",
              "</div>"
            ],
            "text/plain": [
              "                                               sentence  ... freq_token_list\n",
              "id                                                       ...                \n",
              "0     Les coûts kilométriques réels peuvent diverger...  ...        0.206897\n",
              "1     Le bleu, c'est ma couleur préférée mais je n'a...  ...        0.416667\n",
              "2     Le test de niveau en français est sur le site ...  ...        0.500000\n",
              "3              Est-ce que ton mari est aussi de Boston?  ...        0.750000\n",
              "4     Dans les écoles de commerce, dans les couloirs...  ...        0.285714\n",
              "...                                                 ...  ...             ...\n",
              "4795  C'est pourquoi, il décida de remplacer les hab...  ...        0.423077\n",
              "4796  Il avait une de ces pâleurs splendides qui don...  ...        0.250000\n",
              "4797  Et le premier samedi de chaque mois, venez ren...  ...        0.461538\n",
              "4798  Les coûts liés à la journalisation n'étant pas...  ...        0.321429\n",
              "4799  Sur le sable, la mer haletait de toute la resp...  ...        0.400000\n",
              "\n",
              "[4800 rows x 11 columns]"
            ]
          },
          "metadata": {},
          "execution_count": 308
        }
      ]
    },
    {
      "cell_type": "code",
      "metadata": {
        "colab": {
          "base_uri": "https://localhost:8080/",
          "height": 1000
        },
        "id": "Ywssd_eDU5hy",
        "outputId": "a87b796e-7581-4509-f275-ecd89680b846"
      },
      "source": [
        "#Scale the data\n",
        "scaler = MinMaxScaler()\n",
        "col_to_scale = [\"raw_word_count\",\"token_count\",\"avg_chr_word\",\"avg_chr_token\"]\n",
        "#no need for the others because they already are on a scale from 0 to 1\n",
        "\n",
        "new_df[col_to_scale]= scaler.fit_transform(new_df[col_to_scale])\n",
        "new_df"
      ],
      "execution_count": 309,
      "outputs": [
        {
          "output_type": "execute_result",
          "data": {
            "text/html": [
              "<div>\n",
              "<style scoped>\n",
              "    .dataframe tbody tr th:only-of-type {\n",
              "        vertical-align: middle;\n",
              "    }\n",
              "\n",
              "    .dataframe tbody tr th {\n",
              "        vertical-align: top;\n",
              "    }\n",
              "\n",
              "    .dataframe thead th {\n",
              "        text-align: right;\n",
              "    }\n",
              "</style>\n",
              "<table border=\"1\" class=\"dataframe\">\n",
              "  <thead>\n",
              "    <tr style=\"text-align: right;\">\n",
              "      <th></th>\n",
              "      <th>sentence</th>\n",
              "      <th>difficulty</th>\n",
              "      <th>raw_word_count</th>\n",
              "      <th>token_count</th>\n",
              "      <th>avg_chr_word</th>\n",
              "      <th>avg_chr_token</th>\n",
              "      <th>diversity_word</th>\n",
              "      <th>density_word</th>\n",
              "      <th>density_token</th>\n",
              "      <th>freq_word_list</th>\n",
              "      <th>freq_token_list</th>\n",
              "    </tr>\n",
              "    <tr>\n",
              "      <th>id</th>\n",
              "      <th></th>\n",
              "      <th></th>\n",
              "      <th></th>\n",
              "      <th></th>\n",
              "      <th></th>\n",
              "      <th></th>\n",
              "      <th></th>\n",
              "      <th></th>\n",
              "      <th></th>\n",
              "      <th></th>\n",
              "      <th></th>\n",
              "    </tr>\n",
              "  </thead>\n",
              "  <tbody>\n",
              "    <tr>\n",
              "      <th>0</th>\n",
              "      <td>Les coûts kilométriques réels peuvent diverger...</td>\n",
              "      <td>C1</td>\n",
              "      <td>0.140152</td>\n",
              "      <td>0.184</td>\n",
              "      <td>0.339713</td>\n",
              "      <td>0.619565</td>\n",
              "      <td>0.763158</td>\n",
              "      <td>0.488889</td>\n",
              "      <td>0.956522</td>\n",
              "      <td>0.793103</td>\n",
              "      <td>0.206897</td>\n",
              "    </tr>\n",
              "    <tr>\n",
              "      <th>1</th>\n",
              "      <td>Le bleu, c'est ma couleur préférée mais je n'a...</td>\n",
              "      <td>A1</td>\n",
              "      <td>0.041667</td>\n",
              "      <td>0.040</td>\n",
              "      <td>0.204545</td>\n",
              "      <td>0.450000</td>\n",
              "      <td>1.000000</td>\n",
              "      <td>0.375000</td>\n",
              "      <td>0.400000</td>\n",
              "      <td>0.583333</td>\n",
              "      <td>0.416667</td>\n",
              "    </tr>\n",
              "    <tr>\n",
              "      <th>2</th>\n",
              "      <td>Le test de niveau en français est sur le site ...</td>\n",
              "      <td>A1</td>\n",
              "      <td>0.045455</td>\n",
              "      <td>0.048</td>\n",
              "      <td>0.195804</td>\n",
              "      <td>0.486111</td>\n",
              "      <td>0.923077</td>\n",
              "      <td>0.400000</td>\n",
              "      <td>1.000000</td>\n",
              "      <td>0.500000</td>\n",
              "      <td>0.500000</td>\n",
              "    </tr>\n",
              "    <tr>\n",
              "      <th>3</th>\n",
              "      <td>Est-ce que ton mari est aussi de Boston?</td>\n",
              "      <td>A1</td>\n",
              "      <td>0.026515</td>\n",
              "      <td>0.016</td>\n",
              "      <td>0.193182</td>\n",
              "      <td>0.416667</td>\n",
              "      <td>1.000000</td>\n",
              "      <td>0.400000</td>\n",
              "      <td>0.500000</td>\n",
              "      <td>0.250000</td>\n",
              "      <td>0.750000</td>\n",
              "    </tr>\n",
              "    <tr>\n",
              "      <th>4</th>\n",
              "      <td>Dans les écoles de commerce, dans les couloirs...</td>\n",
              "      <td>B1</td>\n",
              "      <td>0.125000</td>\n",
              "      <td>0.144</td>\n",
              "      <td>0.288770</td>\n",
              "      <td>0.467593</td>\n",
              "      <td>0.823529</td>\n",
              "      <td>0.380952</td>\n",
              "      <td>0.722222</td>\n",
              "      <td>0.714286</td>\n",
              "      <td>0.285714</td>\n",
              "    </tr>\n",
              "    <tr>\n",
              "      <th>...</th>\n",
              "      <td>...</td>\n",
              "      <td>...</td>\n",
              "      <td>...</td>\n",
              "      <td>...</td>\n",
              "      <td>...</td>\n",
              "      <td>...</td>\n",
              "      <td>...</td>\n",
              "      <td>...</td>\n",
              "      <td>...</td>\n",
              "      <td>...</td>\n",
              "      <td>...</td>\n",
              "    </tr>\n",
              "    <tr>\n",
              "      <th>4795</th>\n",
              "      <td>C'est pourquoi, il décida de remplacer les hab...</td>\n",
              "      <td>B2</td>\n",
              "      <td>0.094697</td>\n",
              "      <td>0.096</td>\n",
              "      <td>0.307692</td>\n",
              "      <td>0.625000</td>\n",
              "      <td>1.000000</td>\n",
              "      <td>0.500000</td>\n",
              "      <td>0.833333</td>\n",
              "      <td>0.576923</td>\n",
              "      <td>0.423077</td>\n",
              "    </tr>\n",
              "    <tr>\n",
              "      <th>4796</th>\n",
              "      <td>Il avait une de ces pâleurs splendides qui don...</td>\n",
              "      <td>C1</td>\n",
              "      <td>0.075758</td>\n",
              "      <td>0.080</td>\n",
              "      <td>0.242424</td>\n",
              "      <td>0.475000</td>\n",
              "      <td>0.952381</td>\n",
              "      <td>0.454545</td>\n",
              "      <td>1.000000</td>\n",
              "      <td>0.750000</td>\n",
              "      <td>0.250000</td>\n",
              "    </tr>\n",
              "    <tr>\n",
              "      <th>4797</th>\n",
              "      <td>Et le premier samedi de chaque mois, venez ren...</td>\n",
              "      <td>A2</td>\n",
              "      <td>0.049242</td>\n",
              "      <td>0.048</td>\n",
              "      <td>0.253247</td>\n",
              "      <td>0.555556</td>\n",
              "      <td>0.928571</td>\n",
              "      <td>0.466667</td>\n",
              "      <td>1.000000</td>\n",
              "      <td>0.538462</td>\n",
              "      <td>0.461538</td>\n",
              "    </tr>\n",
              "    <tr>\n",
              "      <th>4798</th>\n",
              "      <td>Les coûts liés à la journalisation n'étant pas...</td>\n",
              "      <td>C2</td>\n",
              "      <td>0.117424</td>\n",
              "      <td>0.128</td>\n",
              "      <td>0.372159</td>\n",
              "      <td>0.708333</td>\n",
              "      <td>0.875000</td>\n",
              "      <td>0.540541</td>\n",
              "      <td>0.937500</td>\n",
              "      <td>0.678571</td>\n",
              "      <td>0.321429</td>\n",
              "    </tr>\n",
              "    <tr>\n",
              "      <th>4799</th>\n",
              "      <td>Sur le sable, la mer haletait de toute la resp...</td>\n",
              "      <td>C2</td>\n",
              "      <td>0.060606</td>\n",
              "      <td>0.064</td>\n",
              "      <td>0.240642</td>\n",
              "      <td>0.520833</td>\n",
              "      <td>0.882353</td>\n",
              "      <td>0.368421</td>\n",
              "      <td>0.875000</td>\n",
              "      <td>0.600000</td>\n",
              "      <td>0.400000</td>\n",
              "    </tr>\n",
              "  </tbody>\n",
              "</table>\n",
              "<p>4800 rows × 11 columns</p>\n",
              "</div>"
            ],
            "text/plain": [
              "                                               sentence  ... freq_token_list\n",
              "id                                                       ...                \n",
              "0     Les coûts kilométriques réels peuvent diverger...  ...        0.206897\n",
              "1     Le bleu, c'est ma couleur préférée mais je n'a...  ...        0.416667\n",
              "2     Le test de niveau en français est sur le site ...  ...        0.500000\n",
              "3              Est-ce que ton mari est aussi de Boston?  ...        0.750000\n",
              "4     Dans les écoles de commerce, dans les couloirs...  ...        0.285714\n",
              "...                                                 ...  ...             ...\n",
              "4795  C'est pourquoi, il décida de remplacer les hab...  ...        0.423077\n",
              "4796  Il avait une de ces pâleurs splendides qui don...  ...        0.250000\n",
              "4797  Et le premier samedi de chaque mois, venez ren...  ...        0.461538\n",
              "4798  Les coûts liés à la journalisation n'étant pas...  ...        0.321429\n",
              "4799  Sur le sable, la mer haletait de toute la resp...  ...        0.400000\n",
              "\n",
              "[4800 rows x 11 columns]"
            ]
          },
          "metadata": {},
          "execution_count": 309
        }
      ]
    },
    {
      "cell_type": "markdown",
      "metadata": {
        "id": "CMiQYs9XfU0I"
      },
      "source": [
        "## classification of level using logistic regression"
      ]
    },
    {
      "cell_type": "code",
      "metadata": {
        "colab": {
          "base_uri": "https://localhost:8080/",
          "height": 1000
        },
        "id": "4mcl9ptvfXzi",
        "outputId": "d9edad3b-9d99-4ead-fb43-4af5c9a9688a"
      },
      "source": [
        "# Select features\n",
        "X = new_df[[\"sentence\",\"raw_word_count\",\"token_count\",\"avg_chr_word\",\"avg_chr_token\",\n",
        "                    \"diversity_word\",\"density_word\",\"density_token\",\"freq_word_list\",\n",
        "            \"freq_token_list\"]]# the features we want to analyze\n",
        "\n",
        "ylabels = new_df['difficulty'] # the labels, or answers, we want to test against\n",
        "\n",
        "# Train test split\n",
        "X_train, X_test, y_train, y_test = train_test_split(X, ylabels, test_size=0.2, random_state=1234, stratify=ylabels)\n",
        "\n",
        "X_train"
      ],
      "execution_count": 310,
      "outputs": [
        {
          "output_type": "execute_result",
          "data": {
            "text/html": [
              "<div>\n",
              "<style scoped>\n",
              "    .dataframe tbody tr th:only-of-type {\n",
              "        vertical-align: middle;\n",
              "    }\n",
              "\n",
              "    .dataframe tbody tr th {\n",
              "        vertical-align: top;\n",
              "    }\n",
              "\n",
              "    .dataframe thead th {\n",
              "        text-align: right;\n",
              "    }\n",
              "</style>\n",
              "<table border=\"1\" class=\"dataframe\">\n",
              "  <thead>\n",
              "    <tr style=\"text-align: right;\">\n",
              "      <th></th>\n",
              "      <th>sentence</th>\n",
              "      <th>raw_word_count</th>\n",
              "      <th>token_count</th>\n",
              "      <th>avg_chr_word</th>\n",
              "      <th>avg_chr_token</th>\n",
              "      <th>diversity_word</th>\n",
              "      <th>density_word</th>\n",
              "      <th>density_token</th>\n",
              "      <th>freq_word_list</th>\n",
              "      <th>freq_token_list</th>\n",
              "    </tr>\n",
              "    <tr>\n",
              "      <th>id</th>\n",
              "      <th></th>\n",
              "      <th></th>\n",
              "      <th></th>\n",
              "      <th></th>\n",
              "      <th></th>\n",
              "      <th></th>\n",
              "      <th></th>\n",
              "      <th></th>\n",
              "      <th></th>\n",
              "      <th></th>\n",
              "    </tr>\n",
              "  </thead>\n",
              "  <tbody>\n",
              "    <tr>\n",
              "      <th>962</th>\n",
              "      <td>Le réalisateur m'a d'abord demandé de me mettr...</td>\n",
              "      <td>0.037879</td>\n",
              "      <td>0.032</td>\n",
              "      <td>0.272727</td>\n",
              "      <td>0.645833</td>\n",
              "      <td>1.000000</td>\n",
              "      <td>0.428571</td>\n",
              "      <td>1.000000</td>\n",
              "      <td>0.545455</td>\n",
              "      <td>0.454545</td>\n",
              "    </tr>\n",
              "    <tr>\n",
              "      <th>1886</th>\n",
              "      <td>Après quelques mois de cette pauvreté noble, a...</td>\n",
              "      <td>0.109848</td>\n",
              "      <td>0.112</td>\n",
              "      <td>0.266667</td>\n",
              "      <td>0.517857</td>\n",
              "      <td>0.966667</td>\n",
              "      <td>0.352941</td>\n",
              "      <td>0.714286</td>\n",
              "      <td>0.586207</td>\n",
              "      <td>0.413793</td>\n",
              "    </tr>\n",
              "    <tr>\n",
              "      <th>2721</th>\n",
              "      <td>L'indicateur n'était que de 40% chez les femme...</td>\n",
              "      <td>0.034091</td>\n",
              "      <td>0.040</td>\n",
              "      <td>0.245455</td>\n",
              "      <td>0.483333</td>\n",
              "      <td>1.000000</td>\n",
              "      <td>0.357143</td>\n",
              "      <td>0.600000</td>\n",
              "      <td>0.600000</td>\n",
              "      <td>0.400000</td>\n",
              "    </tr>\n",
              "    <tr>\n",
              "      <th>1025</th>\n",
              "      <td>L'objectif de ce type de voyage est d'être act...</td>\n",
              "      <td>0.094697</td>\n",
              "      <td>0.096</td>\n",
              "      <td>0.241259</td>\n",
              "      <td>0.527778</td>\n",
              "      <td>0.923077</td>\n",
              "      <td>0.482759</td>\n",
              "      <td>1.000000</td>\n",
              "      <td>0.375000</td>\n",
              "      <td>0.625000</td>\n",
              "    </tr>\n",
              "    <tr>\n",
              "      <th>4048</th>\n",
              "      <td>Et, en France, beaucoup moins de filles que de...</td>\n",
              "      <td>0.083333</td>\n",
              "      <td>0.080</td>\n",
              "      <td>0.276680</td>\n",
              "      <td>0.500000</td>\n",
              "      <td>0.956522</td>\n",
              "      <td>0.384615</td>\n",
              "      <td>0.500000</td>\n",
              "      <td>0.636364</td>\n",
              "      <td>0.363636</td>\n",
              "    </tr>\n",
              "    <tr>\n",
              "      <th>...</th>\n",
              "      <td>...</td>\n",
              "      <td>...</td>\n",
              "      <td>...</td>\n",
              "      <td>...</td>\n",
              "      <td>...</td>\n",
              "      <td>...</td>\n",
              "      <td>...</td>\n",
              "      <td>...</td>\n",
              "      <td>...</td>\n",
              "      <td>...</td>\n",
              "    </tr>\n",
              "    <tr>\n",
              "      <th>3693</th>\n",
              "      <td>Je vais prendre ma douche dans ma salle-de-bain.</td>\n",
              "      <td>0.026515</td>\n",
              "      <td>0.032</td>\n",
              "      <td>0.284091</td>\n",
              "      <td>0.645833</td>\n",
              "      <td>0.875000</td>\n",
              "      <td>0.333333</td>\n",
              "      <td>0.750000</td>\n",
              "      <td>0.714286</td>\n",
              "      <td>0.285714</td>\n",
              "    </tr>\n",
              "    <tr>\n",
              "      <th>3408</th>\n",
              "      <td>Après l'éruption de 1754, la plus grosse connu...</td>\n",
              "      <td>0.132576</td>\n",
              "      <td>0.128</td>\n",
              "      <td>0.275253</td>\n",
              "      <td>0.546875</td>\n",
              "      <td>0.805556</td>\n",
              "      <td>0.380952</td>\n",
              "      <td>0.625000</td>\n",
              "      <td>0.655172</td>\n",
              "      <td>0.344828</td>\n",
              "    </tr>\n",
              "    <tr>\n",
              "      <th>4289</th>\n",
              "      <td>Léonard est initié par Verrocchio aux nombreus...</td>\n",
              "      <td>0.117424</td>\n",
              "      <td>0.120</td>\n",
              "      <td>0.369318</td>\n",
              "      <td>0.644444</td>\n",
              "      <td>0.937500</td>\n",
              "      <td>0.472222</td>\n",
              "      <td>0.866667</td>\n",
              "      <td>0.666667</td>\n",
              "      <td>0.333333</td>\n",
              "    </tr>\n",
              "    <tr>\n",
              "      <th>3312</th>\n",
              "      <td>On en trouve des exemples dans l'ouvrage \"L'in...</td>\n",
              "      <td>0.090909</td>\n",
              "      <td>0.120</td>\n",
              "      <td>0.432727</td>\n",
              "      <td>0.694444</td>\n",
              "      <td>1.000000</td>\n",
              "      <td>0.428571</td>\n",
              "      <td>0.800000</td>\n",
              "      <td>0.640000</td>\n",
              "      <td>0.360000</td>\n",
              "    </tr>\n",
              "    <tr>\n",
              "      <th>269</th>\n",
              "      <td>On peut aussi aller au théâtre, dans les musée...</td>\n",
              "      <td>0.041667</td>\n",
              "      <td>0.040</td>\n",
              "      <td>0.189394</td>\n",
              "      <td>0.500000</td>\n",
              "      <td>0.916667</td>\n",
              "      <td>0.307692</td>\n",
              "      <td>0.800000</td>\n",
              "      <td>0.545455</td>\n",
              "      <td>0.454545</td>\n",
              "    </tr>\n",
              "  </tbody>\n",
              "</table>\n",
              "<p>3840 rows × 10 columns</p>\n",
              "</div>"
            ],
            "text/plain": [
              "                                               sentence  ...  freq_token_list\n",
              "id                                                       ...                 \n",
              "962   Le réalisateur m'a d'abord demandé de me mettr...  ...         0.454545\n",
              "1886  Après quelques mois de cette pauvreté noble, a...  ...         0.413793\n",
              "2721  L'indicateur n'était que de 40% chez les femme...  ...         0.400000\n",
              "1025  L'objectif de ce type de voyage est d'être act...  ...         0.625000\n",
              "4048  Et, en France, beaucoup moins de filles que de...  ...         0.363636\n",
              "...                                                 ...  ...              ...\n",
              "3693   Je vais prendre ma douche dans ma salle-de-bain.  ...         0.285714\n",
              "3408  Après l'éruption de 1754, la plus grosse connu...  ...         0.344828\n",
              "4289  Léonard est initié par Verrocchio aux nombreus...  ...         0.333333\n",
              "3312  On en trouve des exemples dans l'ouvrage \"L'in...  ...         0.360000\n",
              "269   On peut aussi aller au théâtre, dans les musée...  ...         0.454545\n",
              "\n",
              "[3840 rows x 10 columns]"
            ]
          },
          "metadata": {},
          "execution_count": 310
        }
      ]
    },
    {
      "cell_type": "code",
      "metadata": {
        "colab": {
          "base_uri": "https://localhost:8080/"
        },
        "id": "fYn0f20UfZBz",
        "outputId": "4b19ba00-de6c-4f1b-bdd3-e5fa2d32ff5a"
      },
      "source": [
        "y_train\n"
      ],
      "execution_count": 311,
      "outputs": [
        {
          "output_type": "execute_result",
          "data": {
            "text/plain": [
              "id\n",
              "962     B1\n",
              "1886    C1\n",
              "2721    A2\n",
              "1025    B1\n",
              "4048    B2\n",
              "        ..\n",
              "3693    A1\n",
              "3408    B1\n",
              "4289    C2\n",
              "3312    C2\n",
              "269     A1\n",
              "Name: difficulty, Length: 3840, dtype: object"
            ]
          },
          "metadata": {},
          "execution_count": 311
        }
      ]
    },
    {
      "cell_type": "code",
      "metadata": {
        "colab": {
          "base_uri": "https://localhost:8080/"
        },
        "id": "FF7mS7lLfaXk",
        "outputId": "d29f0594-c6fa-4743-cbc0-0604ca9e65af"
      },
      "source": [
        "from sklearn.compose import ColumnTransformer\n",
        "\n",
        "# Define classifier\n",
        "classifier = LogisticRegression(multi_class=\"multinomial\",max_iter=1000)\n",
        "\n",
        "#Vectorizer\n",
        "tfidf_vector = TfidfVectorizer(tokenizer=spacy_tokenizer)\n",
        "\n",
        "#Column Transformer (to apply vectorizer to the right column)\n",
        "column_transformer = ColumnTransformer(\n",
        "    [(\"tfidf\", tfidf_vector, \"sentence\")],\n",
        "    remainder=\"passthrough\")\n",
        "\n",
        "# Create pipeline\n",
        "pipe = Pipeline([(\"tfidf\",column_transformer),(\"classifier\", classifier)])\n",
        "\n",
        "# Fit model on training set\n",
        "pipe.fit(X_train, y_train)\n"
      ],
      "execution_count": 312,
      "outputs": [
        {
          "output_type": "execute_result",
          "data": {
            "text/plain": [
              "Pipeline(steps=[('tfidf',\n",
              "                 ColumnTransformer(remainder='passthrough',\n",
              "                                   transformers=[('tfidf',\n",
              "                                                  TfidfVectorizer(tokenizer=<function spacy_tokenizer at 0x7f44f63848c0>),\n",
              "                                                  'sentence')])),\n",
              "                ('classifier',\n",
              "                 LogisticRegression(max_iter=1000, multi_class='multinomial'))])"
            ]
          },
          "metadata": {},
          "execution_count": 312
        }
      ]
    },
    {
      "cell_type": "code",
      "metadata": {
        "id": "-iaGbtXRfTze"
      },
      "source": [
        "# Evaluate the model\n",
        "def evaluate(test, pred):\n",
        "  precision = precision_score(test, pred,average=None)\n",
        "  recall = recall_score(test, pred, average=None)\n",
        "  f1= f1_score(test, pred, average=None)\n",
        "  print(f'CONFUSION MATRIX:\\n{confusion_matrix(test, pred)}')\n",
        "  print(f\"ACCURACY SCORE:\\n{accuracy_score(test, pred) :.4f}\")\n",
        "  print(f'CLASSIFICATION REPORT:')\n",
        "  print(\"Precision:\\t {0:4f}\".format(precision_score(test, pred,average=\"macro\"))) \n",
        "  print(\"Recall:\\t {0:4f}\".format(recall_score(test, pred, average=\"macro\")))\n",
        "  print(\"F1_Score:\\t {0:4f}\".format(f1_score(test, pred, average=\"macro\")))\n"
      ],
      "execution_count": 290,
      "outputs": []
    },
    {
      "cell_type": "code",
      "metadata": {
        "colab": {
          "base_uri": "https://localhost:8080/"
        },
        "id": "GAve0ev8fFZT",
        "outputId": "28068eb3-946d-4901-f1a8-3e084d9bf6e5"
      },
      "source": [
        "# Predictions\n",
        "y_pred = pipe.predict(X_test)\n",
        "\n",
        "# Evaluation - test set\n",
        "evaluate(y_test, y_pred)"
      ],
      "execution_count": 313,
      "outputs": [
        {
          "output_type": "stream",
          "name": "stdout",
          "text": [
            "CONFUSION MATRIX:\n",
            "[[101  27  25   8   1   1]\n",
            " [ 44  61  45   4   4   1]\n",
            " [ 20  40  64  19   8   8]\n",
            " [  6   7  18  69  28  30]\n",
            " [  4   3  10  36  71  36]\n",
            " [  3   0  12  21  30  95]]\n",
            "ACCURACY SCORE:\n",
            "0.4802\n",
            "CLASSIFICATION REPORT:\n",
            "Precision:\t 0.478718\n",
            "Recall:\t 0.479386\n",
            "F1_Score:\t 0.478020\n"
          ]
        }
      ]
    },
    {
      "cell_type": "code",
      "metadata": {
        "colab": {
          "base_uri": "https://localhost:8080/"
        },
        "id": "3P4Y1DnjysrP",
        "outputId": "88a43ca6-48b2-451b-ab24-2ac8781ed0be"
      },
      "source": [
        "#Random Forest\n",
        "from sklearn.ensemble import RandomForestClassifier\n",
        "\n",
        "#Create a Gaussian Classifier\n",
        "random_for=RandomForestClassifier(n_estimators=100)\n",
        "\n",
        "pipe = Pipeline([(\"tfidf\",column_transformer),(\"model\", random_for)])\n",
        "#Train the model using the training sets y_pred=clf.predict(X_test)\n",
        "pipe.fit(X_train,y_train)\n",
        "\n",
        "y_pred=pipe.predict(X_test)\n",
        "evaluate(y_test, y_pred)"
      ],
      "execution_count": 314,
      "outputs": [
        {
          "output_type": "stream",
          "name": "stdout",
          "text": [
            "CONFUSION MATRIX:\n",
            "[[118  27  16   2   0   0]\n",
            " [ 51  67  37   3   1   0]\n",
            " [ 24  44  68  10   7   6]\n",
            " [  8   3  26  65  35  21]\n",
            " [ 10   7  14  34  68  27]\n",
            " [  3   5  18  27  42  66]]\n",
            "ACCURACY SCORE:\n",
            "0.4708\n",
            "CLASSIFICATION REPORT:\n",
            "Precision:\t 0.470773\n",
            "Recall:\t 0.469886\n",
            "F1_Score:\t 0.466148\n"
          ]
        }
      ]
    }
  ]
}